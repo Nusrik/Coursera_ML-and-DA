{
 "cells": [
  {
   "cell_type": "code",
   "execution_count": 1,
   "metadata": {},
   "outputs": [],
   "source": [
    "import numpy as np\n",
    "import scipy.linalg\n",
    "from matplotlib import pyplot as plt"
   ]
  },
  {
   "cell_type": "code",
   "execution_count": 3,
   "metadata": {},
   "outputs": [],
   "source": [
    "def f(x):\n",
    "    return np.sin(x / 5) * np.exp(x / 10) + 5 * np.exp(-x/2)"
   ]
  },
  {
   "cell_type": "code",
   "execution_count": 4,
   "metadata": {},
   "outputs": [],
   "source": [
    "def get_matrix(x_points):\n",
    "    matrix = []\n",
    "    for x in x_points:\n",
    "        row = []\n",
    "        for i in range(len(x_points)):\n",
    "            row.append(x ** i)\n",
    "        matrix.append(row)\n",
    "    return np.array(matrix)"
   ]
  },
  {
   "cell_type": "code",
   "execution_count": 5,
   "metadata": {},
   "outputs": [],
   "source": [
    "def get_approximate(w, x_points):\n",
    "    y = []\n",
    "    for x in x_points:\n",
    "        current_y = 0\n",
    "        for i in range(len(w)):\n",
    "            current_y += w[i] * (x ** i)\n",
    "        y.append(current_y)\n",
    "    return y"
   ]
  },
  {
   "cell_type": "code",
   "execution_count": 22,
   "metadata": {},
   "outputs": [],
   "source": [
    "x_2 = [1, 15]\n",
    "A_2 = get_matrix(x_2)\n",
    "y_2 = np.array(list(map(f, x_2)))\n",
    "\n",
    "w_2 = scipy.linalg.solve(A_2, y_2)\n",
    "y_app_2 = get_approximate(w_2, x_2)"
   ]
  },
  {
   "cell_type": "code",
   "execution_count": 25,
   "metadata": {},
   "outputs": [],
   "source": [
    "x_3 = [1, 8, 15]\n",
    "A_3 = get_matrix(x_3)\n",
    "y_3 = np.array(list(map(f, x_3)))\n",
    "\n",
    "w_3 = scipy.linalg.solve(A_3, y_3)\n",
    "y_app_3 = get_approximate(w_3, x_3)"
   ]
  },
  {
   "cell_type": "code",
   "execution_count": 29,
   "metadata": {},
   "outputs": [],
   "source": [
    "x_4 = [1, 4, 10, 15]\n",
    "A_4 = get_matrix(x_4)\n",
    "y_4 = np.array(list(map(f, x_4)))\n",
    "\n",
    "w_4 = scipy.linalg.solve(A_4, y_4)\n",
    "y_app_4 = get_approximate(w_4, x_4)"
   ]
  },
  {
   "cell_type": "code",
   "execution_count": 30,
   "metadata": {},
   "outputs": [
    {
     "data": {
      "text/plain": [
       "[<matplotlib.lines.Line2D at 0x7f9370e24550>]"
      ]
     },
     "execution_count": 30,
     "metadata": {},
     "output_type": "execute_result"
    },
    {
     "data": {
      "image/png": "[encoded data removed]",
      "text/plain": [
       "<Figure size 432x288 with 1 Axes>"
      ]
     },
     "metadata": {
      "needs_background": "light"
     },
     "output_type": "display_data"
    }
   ],
   "source": [
    "plt.plot(x_2, y_app_2)\n",
    "plt.plot(x_3, y_app_3)\n",
    "plt.plot(x_4, y_app_4)"
   ]
  },
  {
   "cell_type": "code",
   "execution_count": 32,
   "metadata": {},
   "outputs": [
    {
     "name": "stdout",
     "output_type": "stream",
     "text": [
      "[ 4.36264154 -1.29552587  0.19333685 -0.00823565]\n"
     ]
    }
   ],
   "source": [
    "print(w_4)"
   ]
  },
  {
   "cell_type": "code",
   "execution_count": 33,
   "metadata": {},
   "outputs": [],
   "source": [
    "with open('submission-2.txt', 'w') as file_obj:\n",
    "    res = ''\n",
    "    for w in w_4:\n",
    "        res += str(w) + ' '    \n",
    "    res = res[0:-1]    \n",
    "\n",
    "    file_obj.write(res)\n"
   ]
  }
 ],
 "metadata": {
  "kernelspec": {
   "display_name": "Python 3",
   "language": "python",
   "name": "python3"
  },
  "language_info": {
   "codemirror_mode": {
    "name": "ipython",
    "version": 3
   },
   "file_extension": ".py",
   "mimetype": "text/x-python",
   "name": "python",
   "nbconvert_exporter": "python",
   "pygments_lexer": "ipython3",
   "version": "3.7.4"
  }
 },
 "nbformat": 4,
 "nbformat_minor": 2
}
