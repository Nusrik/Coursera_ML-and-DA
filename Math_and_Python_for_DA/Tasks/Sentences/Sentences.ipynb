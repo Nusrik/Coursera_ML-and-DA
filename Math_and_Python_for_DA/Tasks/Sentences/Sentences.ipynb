{
 "cells": [
  {
   "cell_type": "code",
   "execution_count": 1,
   "metadata": {},
   "outputs": [],
   "source": [
    "import numpy as np\n",
    "import re\n",
    "from scipy import spatial"
   ]
  },
  {
   "cell_type": "code",
   "execution_count": 21,
   "metadata": {},
   "outputs": [],
   "source": [
    "#Считываем предложения из файла\n",
    "with open('sentences.txt') as file_obj:\n",
    "    sentences = file_obj.readlines()"
   ]
  },
  {
   "cell_type": "code",
   "execution_count": 27,
   "metadata": {},
   "outputs": [],
   "source": [
    "tokens = []\n",
    "for sentence in sentences:\n",
    "    #Переводим в нижний регистр\n",
    "    sentence = sentence.lower()\n",
    "    #Производим токенизацию, т. е. разбиение текстов на слова\n",
    "    token = re.split('[^a-z]', sentence)\n",
    "    #Удаляем пустые слова\n",
    "    token = [x for x in token if x]\n",
    "    tokens.append(token)"
   ]
  },
  {
   "cell_type": "code",
   "execution_count": 40,
   "metadata": {},
   "outputs": [],
   "source": [
    "#Составляем список всех слов, встречающихся в предложениях\n",
    "words = {}\n",
    "index = 0\n",
    "for token in tokens:\n",
    "    for word in token:\n",
    "        if word not in words:\n",
    "            words[word] = index\n",
    "            index += 1"
   ]
  },
  {
   "cell_type": "code",
   "execution_count": 53,
   "metadata": {},
   "outputs": [],
   "source": [
    "number_of_sentences = len(tokens) #Количество предложений\n",
    "number_of_words = index #Количество уникальных слов\n",
    "matrix = np.zeros((number_of_sentences, number_of_words)) #Матрица n*d, где n -- кол-во предложений\n",
    "                                                          #             d -- число различных слов в предложениях"
   ]
  },
  {
   "cell_type": "code",
   "execution_count": 56,
   "metadata": {},
   "outputs": [],
   "source": [
    "#Элемент с индексом (i, j) в этой матрице равен количеству вхождений j-го слова в i-е предложение\n",
    "for i in range(number_of_sentences):\n",
    "    token = tokens[i]\n",
    "    for word in token:\n",
    "        matrix[i][words[word]] += 1"
   ]
  },
  {
   "cell_type": "code",
   "execution_count": 61,
   "metadata": {},
   "outputs": [],
   "source": [
    "distances = {}\n",
    "first_sentence_metric = matrix[0, :]"
   ]
  },
  {
   "cell_type": "code",
   "execution_count": 62,
   "metadata": {},
   "outputs": [],
   "source": [
    "for i in range(number_of_sentences):\n",
    "    current_sentence_metric = matrix[i, :]\n",
    "    distances[i] = spatial.distance.cosine(first_sentence_metric, current_sentence_metric)"
   ]
  },
  {
   "cell_type": "code",
   "execution_count": 65,
   "metadata": {},
   "outputs": [
    {
     "data": {
      "text/plain": [
       "[(0, 0.0),\n",
       " (6, 0.7327387580875756),\n",
       " (4, 0.7770887149698589),\n",
       " (21, 0.8250364469440588),\n",
       " (10, 0.8328165362273942),\n",
       " (12, 0.8396432548525454),\n",
       " (16, 0.8406361854220809),\n",
       " (20, 0.8427572744917122),\n",
       " (2, 0.8644738145642124),\n",
       " (13, 0.8703592552895671),\n",
       " (14, 0.8740118423302576),\n",
       " (11, 0.8804771390665607),\n",
       " (8, 0.8842724875284311),\n",
       " (19, 0.8885443574849294),\n",
       " (3, 0.8951715163278082),\n",
       " (9, 0.9055088817476932),\n",
       " (7, 0.9258750683338899),\n",
       " (5, 0.9402385695332803),\n",
       " (15, 0.9442721787424647),\n",
       " (18, 0.9442721787424647),\n",
       " (1, 0.9527544408738466),\n",
       " (17, 0.956644501523794)]"
      ]
     },
     "execution_count": 65,
     "metadata": {},
     "output_type": "execute_result"
    }
   ],
   "source": [
    "sorted(distances.items(), key=lambda x: (x[1],x[0]))"
   ]
  },
  {
   "cell_type": "code",
   "execution_count": 66,
   "metadata": {},
   "outputs": [],
   "source": [
    "with open(\"submission-1.txt\",'w') as file_obj:\n",
    "    file_obj.write(\"6 4\")"
   ]
  }
 ],
 "metadata": {
  "kernelspec": {
   "display_name": "Python 3",
   "language": "python",
   "name": "python3"
  },
  "language_info": {
   "codemirror_mode": {
    "name": "ipython",
    "version": 3
   },
   "file_extension": ".py",
   "mimetype": "text/x-python",
   "name": "python",
   "nbconvert_exporter": "python",
   "pygments_lexer": "ipython3",
   "version": "3.7.4"
  }
 },
 "nbformat": 4,
 "nbformat_minor": 2
}
